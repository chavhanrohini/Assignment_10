{
 "cells": [
  {
   "cell_type": "markdown",
   "id": "26ce06fe",
   "metadata": {},
   "source": [
    "## How do you distinguish between shutil.copy() and shutil.copytree()?\n",
    "\n",
    "shutil.copy():\n",
    "\n",
    "This function is used to copy a single file from one location to another. You provide the source file path and the destination file path as arguments. It does not copy directories, only individual files.\n",
    "\n",
    "shutil.copytree():\n",
    "\n",
    "This function is used to copy an entire directory tree from one location to another. It recursively copies all files and subdirectories from the source directory to the destination directory. You provide the source directory path and the destination directory path as arguments."
   ]
  },
  {
   "cell_type": "markdown",
   "id": "7d700da2",
   "metadata": {},
   "source": [
    "## What function is used to rename files?\n",
    "\n",
    "To rename files in Python, you can use the os.rename() function. It allows you to change the name of a file by providing the current file path and the new file path as arguments."
   ]
  },
  {
   "cell_type": "markdown",
   "id": "268bdfe9",
   "metadata": {},
   "source": [
    "## What is the difference between the delete functions in the send2trash and shutil modules?\n",
    "\n",
    "send2trash: The send2trash module provides a function called send2trash() that moves files or directories to the system's trash or recycle bin. It's a safer way to delete files as they can be restored from the trash if needed.\n",
    "\n",
    "shutil: The shutil module provides various functions for file operations, including shutil.rmtree(), which is used to delete directories and their contents recursively, and os.remove() to delete individual files. These functions delete files and directories permanently, and there's no easy way to recover them."
   ]
  },
  {
   "cell_type": "markdown",
   "id": "aa9b4cfc",
   "metadata": {},
   "source": [
    "## ZipFile objects have a close() method just like File objects’ close() method. What ZipFile method is equivalent to File objects’ open() method?\n",
    "\n",
    "The equivalent method to a File object's open() method for ZipFile objects is zipfile.ZipFile() to create a new ZipFile object. It's used to open a ZIP archive or create a new one. You provide the filename and the mode (e.g., 'r' for reading, 'w' for writing) as arguments when calling zipfile.ZipFile()."
   ]
  },
  {
   "cell_type": "markdown",
   "id": "0dedb930",
   "metadata": {},
   "source": [
    "## Create a program that searches a folder tree for files with a certain file extension (such as .pdf or .jpg). Copy these files from whatever location they are in to a new folder."
   ]
  },
  {
   "cell_type": "code",
   "execution_count": 1,
   "id": "8cfc9087",
   "metadata": {},
   "outputs": [],
   "source": [
    "# Here's a Python program that does this:\n",
    "\n",
    "import os\n",
    "import shutil\n",
    "\n",
    "# Function to copy files with a specific extension to a destination folder\n",
    "\n",
    "def copy_files_by_extension(source_folder, destination_folder, extension):\n",
    "    for foldername, subfolders, filenames in os.walk(source_folder):\n",
    "        for filename in filenames:\n",
    "            if filename.endswith(extension):\n",
    "                source_path = os.path.join(foldername, filename)\n",
    "                destination_path = os.path.join(destination_folder, filename)\n",
    "                shutil.copy(source_path, destination_path)\n",
    "\n",
    "# Specify source folder, destination folder, and file extension\n",
    "source_folder = 'source_folder_path'  # Replace with the actual source folder path\n",
    "destination_folder = 'destination_folder_path'  # Replace with the actual destination folder path\n",
    "file_extension = '.pdf'  # Replace with the desired file extension\n",
    "\n",
    "# Create the destination folder if it doesn't exist\n",
    "os.makedirs(destination_folder, exist_ok=True)\n",
    "\n",
    "# Copy files with the specified extension\n",
    "copy_files_by_extension(source_folder, destination_folder, file_extension)\n",
    "\n",
    "\n"
   ]
  },
  {
   "cell_type": "markdown",
   "id": "04869284",
   "metadata": {},
   "source": [
    "Replace 'source_folder_path', 'destination_folder_path', and '.pdf' with your specific source folder path, destination folder path, and file extension. This program will search for files with the specified extension in the source folder and its subdirectories and copy them to the destination folder."
   ]
  },
  {
   "cell_type": "code",
   "execution_count": null,
   "id": "c93013f2",
   "metadata": {},
   "outputs": [],
   "source": []
  },
  {
   "cell_type": "code",
   "execution_count": null,
   "id": "ec7cabb1",
   "metadata": {},
   "outputs": [],
   "source": []
  }
 ],
 "metadata": {
  "kernelspec": {
   "display_name": "Python 3 (ipykernel)",
   "language": "python",
   "name": "python3"
  },
  "language_info": {
   "codemirror_mode": {
    "name": "ipython",
    "version": 3
   },
   "file_extension": ".py",
   "mimetype": "text/x-python",
   "name": "python",
   "nbconvert_exporter": "python",
   "pygments_lexer": "ipython3",
   "version": "3.9.12"
  }
 },
 "nbformat": 4,
 "nbformat_minor": 5
}
